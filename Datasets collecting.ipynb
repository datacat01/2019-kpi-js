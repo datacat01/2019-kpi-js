{
 "cells": [
  {
   "cell_type": "code",
   "execution_count": 2,
   "metadata": {},
   "outputs": [],
   "source": [
    "from selenium import webdriver\n",
    "from selenium.webdriver.common.keys import Keys\n",
    "import os, re"
   ]
  },
  {
   "cell_type": "markdown",
   "metadata": {},
   "source": [
    "## Get from github"
   ]
  },
  {
   "cell_type": "code",
   "execution_count": 62,
   "metadata": {},
   "outputs": [],
   "source": [
    "def get_clean_js_code_from_github(mylogin, mypassword, clean_js_path):    \n",
    "\n",
    "    driver = webdriver.Chrome('C:\\\\webdrivers\\\\chromedriver.exe')\n",
    "    driver.get(\"https://github.com/search?l=JavaScript&o=desc&p=1&q=var&s=indexed&type=Code\")\n",
    "\n",
    "    login_field = driver.find_element_by_id(\"login_field\")\n",
    "    password = driver.find_element_by_id(\"password\")\n",
    "    login_field.send_keys(mylogin)\n",
    "    password.send_keys(mypassword)\n",
    "    password.submit()\n",
    "\n",
    "    f_num=0\n",
    "    for page in range(100):\n",
    "        driver.get(\"https://github.com/search?l=JavaScript&o=desc&p=%s&q=var&s=indexed&type=Code\"%str(page+1))\n",
    "        for i in range(10):\n",
    "            js_code_link = driver.find_element_by_xpath(\"//div[@id='code_search_results']/div[1]/div[%s]/div[1]/div[1]/a[2]\" % str(i+1))\n",
    "            js_code_link.click()\n",
    "\n",
    "            raw_button = driver.find_element_by_id(\"raw-url\")\n",
    "            raw_button.click()\n",
    "\n",
    "            js_code = driver.find_element_by_xpath(\"html/body/pre\")\n",
    "\n",
    "            f = open(clean_js_path + str(f_num) + \".txt\", \"w\", encoding='utf-8')\n",
    "            f.write(js_code.text)\n",
    "            f.close()\n",
    "            f_num += 1\n",
    "\n",
    "            driver.back()\n",
    "            driver.back()"
   ]
  },
  {
   "cell_type": "markdown",
   "metadata": {},
   "source": [
    "## Obfuscate code"
   ]
  },
  {
   "cell_type": "code",
   "execution_count": null,
   "metadata": {
    "scrolled": true
   },
   "outputs": [],
   "source": [
    "def obfuscate_files(clean_js_path, obfuscated_js_path):  \n",
    "\n",
    "    driver = webdriver.Chrome('C:\\\\webdrivers\\\\chromedriver.exe')\n",
    "    driver.get(\"http://javascriptobfuscator.com/javascript-obfuscator.aspx\")\n",
    "    \n",
    "    def to_obfuscate(js_code, driver):\n",
    "        to_obfuscate_textbox = driver.find_element_by_id(\"ctl00_MainContent_TextBox1\")\n",
    "        to_obfuscate_textbox.clear()\n",
    "        to_obfuscate_textbox.send_keys(js_code)\n",
    "\n",
    "        obfuscate_button = driver.find_element_by_id(\"ctl00_MainContent_Button1\")\n",
    "        driver.execute_script(\"arguments[0].click();\", obfuscate_button)\n",
    "\n",
    "        #ads = driver.find_element_by_xpath(\"/html/body/form[@id='aspnetForm']/main[1]/div[@id='ctl00_MainContent_fridayPanel']/div[@id='fridaydiv']/button\")\n",
    "        #ads.click()\n",
    "        \n",
    "        obfuscated_text = driver.find_element_by_id(\"ctl00_MainContent_TextBox2\").text\n",
    "        return obfuscated_text\n",
    "\n",
    "    clean_js_files_names = os.listdir(clean_js_path) \n",
    "    for js_file_name in clean_js_files_names:\n",
    "        fin = open(clean_js_path + \"\\\\\" + js_file_name, 'r', encoding='utf-8')\n",
    "        fout = open(obfuscated_js_path + \"\\\\\" + js_file_name, 'w', encoding='utf-8')\n",
    "        ob_code = to_obfuscate(fin.read(), driver)\n",
    "        fout.write(ob_code)\n",
    "\n",
    "        fout.close()\n",
    "        fin.close()\n",
    "\n",
    "clean_js_path = \"C:\\\\Users\\\\work\\\\Documents\\\\samsung\\\\project\\\\js_ob\\\\2019-kpi-js\\\\clean_js_unique\"\n",
    "obfuscated_js_path = \"C:\\\\Users\\\\work\\\\Documents\\\\samsung\\\\project\\\\js_ob\\\\2019-kpi-js\\\\obfuscated_js\"  \n",
    "obfuscate_files(clean_js_path, obfuscated_js_path)"
   ]
  },
  {
   "cell_type": "code",
   "execution_count": null,
   "metadata": {},
   "outputs": [],
   "source": []
  },
  {
   "cell_type": "code",
   "execution_count": null,
   "metadata": {},
   "outputs": [],
   "source": []
  }
 ],
 "metadata": {
  "kernelspec": {
   "display_name": "Python 3",
   "language": "python",
   "name": "python3"
  },
  "language_info": {
   "codemirror_mode": {
    "name": "ipython",
    "version": 3
   },
   "file_extension": ".py",
   "mimetype": "text/x-python",
   "name": "python",
   "nbconvert_exporter": "python",
   "pygments_lexer": "ipython3",
   "version": "3.6.5"
  }
 },
 "nbformat": 4,
 "nbformat_minor": 2
}
