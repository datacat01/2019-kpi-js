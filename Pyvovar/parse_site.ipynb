{
 "cells": [
  {
   "cell_type": "code",
   "execution_count": 287,
   "metadata": {},
   "outputs": [],
   "source": [
    "import requests\n",
    "import lxml\n",
    "from lxml import html\n",
    "from bs4 import BeautifulSoup  \n",
    "import urllib\n",
    "import re"
   ]
  },
  {
   "cell_type": "code",
   "execution_count": 368,
   "metadata": {},
   "outputs": [],
   "source": [
    "class Parser:\n",
    "    'Class for parsing sites'\n",
    "    def __init__(self, p1, p2, w):\n",
    "        self.path_data = p1\n",
    "        self.path_data_clean = p2\n",
    "        self.websites_to_parse = w\n",
    "    \n",
    "    \n",
    "    def set_path(self, new_path):\n",
    "        self.path = new_path\n",
    "    \n",
    "    \n",
    "    def add_site(self, new_site):\n",
    "        self.wevsites_to_parse += new_site\n",
    "        \n",
    "        \n",
    "    def parse_sites(self):\n",
    "        i = 0\n",
    "        for site in self.websites_to_parse:\n",
    "            r = requests.get(site)\n",
    "            text = r.text\n",
    "            tree = html.fromstring(text)\n",
    "            tlist = tree.xpath('//script')\n",
    "            f = open(self.path + str(i), 'w+')\n",
    "            i += 1\n",
    "            for t in tlist:\n",
    "                if(t.text!=None):\n",
    "                    f.write(t.text)\n",
    "                    \n",
    "                    \n",
    "    def parse_site(self):\n",
    "        i = 0\n",
    "        for page in self.websites_to_parse:\n",
    "            r = requests.get(page)\n",
    "            soup = BeautifulSoup(r.text, 'html.parser')\n",
    "            results = soup.find_all('script')\n",
    "            #print(results)\n",
    "            for res in results:\n",
    "                refined = self.select_js(str(res))\n",
    "                f = open(self.path_data_clean + str(i) + '.txt', '+w')\n",
    "                f.write(refined)\n",
    "                i += 1\n",
    "        #print(i)\n",
    "                \n",
    "        \n",
    "    def select_js(self, contents):\n",
    "        #print(contents)\n",
    "        result = contents.replace('<', '~')\n",
    "        result = result.replace('>', '~')\n",
    "        result = result.split(\"~\")\n",
    "        for item in result:\n",
    "            if(len(item)<=3):\n",
    "                result.remove(item)\n",
    "        target = result[1]\n",
    "        bull_shit = [\n",
    "            '![CDATA[', '//]]'\n",
    "        ]\n",
    "        for x in bull_shit:\n",
    "            if(target.find(x)!=-1):\n",
    "                target = target.replace(x, '')\n",
    "        return target\n",
    "    \n",
    "    \n",
    "    def find_tag(self, file):\n",
    "        pattern = '[^<>$]'\n",
    "        f = open(file, 'r')\n",
    "        script = f.read()\n",
    "        print(script)\n",
    "        result = re.split(pattern, script)\n",
    "        match = re.search(pattern, script)\n",
    "        print(match.group())\n",
    "        #print(len(result))\n",
    "        #for res in result:\n",
    "        #    print(res + '\\n')\n",
    "        \n",
    "    \n",
    "    def find_link(self, page):\n",
    "        html_page = urllib.request.urlopen(page)\n",
    "        soup = BeautifulSoup(html_page)\n",
    "        i = 0\n",
    "        for script in soup.find_all('script'):\n",
    "            link = script.get('src')\n",
    "            if(link!=None):\n",
    "                response = urllib.request.urlretrieve(\n",
    "                    link, self.path_data_clean + str(i) + '.txt')\n",
    "                i += 1\n",
    "        \n",
    "        "
   ]
  },
  {
   "cell_type": "code",
   "execution_count": 369,
   "metadata": {},
   "outputs": [],
   "source": [
    "parser = Parser('/home/pyvovar/Documents/workspace/DS/Samsung/data/',\n",
    "                '/home/pyvovar/Documents/workspace/DS/Samsung/data_clean/',\n",
    "                 ['https://alexa.com',\n",
    "                 'https://scrapy.org',\n",
    "                 'https://pythonspot.com/category/selenium'])"
   ]
  },
  {
   "cell_type": "code",
   "execution_count": 370,
   "metadata": {},
   "outputs": [
    {
     "name": "stdout",
     "output_type": "stream",
     "text": [
      "<script data-cfasync=\"false\" type=\"text/javascript\">//<![CDATA[\n",
      "\tvar gtm4wp_datalayer_name = \"dataLayer\";\n",
      "\tvar dataLayer = dataLayer || [];\n",
      "//]]>\n",
      "</script>\n",
      "s\n"
     ]
    }
   ],
   "source": [
    "parser.find_tag('/home/pyvovar/Documents/workspace/DS/Samsung/data/0.txt')"
   ]
  },
  {
   "cell_type": "code",
   "execution_count": 371,
   "metadata": {},
   "outputs": [],
   "source": [
    "parser.find_link(parser.websites_to_parse[0])"
   ]
  },
  {
   "cell_type": "code",
   "execution_count": 227,
   "metadata": {
    "scrolled": true
   },
   "outputs": [],
   "source": [
    "#parser.select_js('/home/pyvovar/Documents/workspace/DS/Samsung/data/1.txt',\n",
    "#                '/home/pyvovar/Documents/workspace/DS/Samsung/data_clean/1.txt')"
   ]
  },
  {
   "cell_type": "code",
   "execution_count": 228,
   "metadata": {},
   "outputs": [],
   "source": [
    "parser.parse_site()"
   ]
  },
  {
   "cell_type": "code",
   "execution_count": null,
   "metadata": {},
   "outputs": [],
   "source": [
    "parser.parse_sites()"
   ]
  },
  {
   "cell_type": "code",
   "execution_count": 372,
   "metadata": {},
   "outputs": [
    {
     "name": "stdout",
     "output_type": "stream",
     "text": [
      "function setCorrectResizeValuesForScrollSections(){var e=jQuery(\"#content\").find(\".fusion-scroll-section\"),n=0,i=(n=0,0),t=0;e.length&&(jQuery(\".fusion-scroll-section.active\").find(\".fusion-scroll-section-element\").css({left:jQuery(\"#content\").offset().left}),jQuery(\".fusion-scroll-section\").find(\".fusion-scroll-section-element\").css({width:jQuery(\"#content\").width()}),0==fusionContainerVars.container_hundred_percent_height_mobile&&(Modernizr.mq(\"only screen and (max-width: \"+fusionContainerVars.content_break_point+\"px)\")?(jQuery(\".fusion-scroll-section\").removeClass(\"active\").addClass(\"fusion-scroll-section-mobile-disabled\"),jQuery(\".fusion-scroll-section\").attr(\"style\",\"\"),jQuery(\".fusion-scroll-section\").find(\".fusion-scroll-section-element\").attr(\"style\",\"\"),jQuery(\".fusion-scroll-section\").find(\".hundred-percent-height-scrolling\").css(\"height\",\"auto\"),jQuery(\".fusion-scroll-section\").find(\".fusion-fullwidth-center-content\").css(\"height\",\"auto\")):jQuery(\".fusion-scroll-section\").hasClass(\"fusion-scroll-section-mobile-disabled\")&&(jQuery(\".fusion-scroll-section\").find(\".fusion-fullwidth-center-content\").css(\"height\",\"\"),Boolean(Number(fusionContainerVars.is_sticky_header_transparent))||\"function\"!=typeof getStickyHeaderHeight||(n=getStickyHeaderHeight(!0)),jQuery(\"#wpadminbar\").length&&(t=parseInt(jQuery(\"#wpadminbar\").height(),10)),i=n+t,e.each(function(){1<jQuery(this).children(\"div\").length&&(jQuery(this).css(\"height\",100*jQuery(this).children(\"div\").size()+50+\"vh\"),jQuery(this).find(\".hundred-percent-height-scrolling\").css(\"height\",\"calc(100vh - \"+i+\"px)\"))}),scrollToCurrentScrollSection()))),jQuery(\".hundred-percent-height.non-hundred-percent-height-scrolling\").length&&(Boolean(Number(fusionContainerVars.is_sticky_header_transparent))||\"function\"!=typeof getStickyHeaderHeight||(n=getStickyHeaderHeight(!0)),jQuery(\"#wpadminbar\").length&&(t=parseInt(jQuery(\"#wpadminbar\").height(),10)),i=n+t,0==fusionContainerVars.container_hundred_percent_height_mobile&&(Modernizr.mq(\"only screen and (max-width: \"+fusionContainerVars.content_break_point+\"px)\")?(jQuery(\".hundred-percent-height.non-hundred-percent-height-scrolling\").css(\"height\",\"auto\"),jQuery(\".hundred-percent-height.non-hundred-percent-height-scrolling\").find(\".fusion-fullwidth-center-content\").css(\"height\",\"auto\")):(jQuery(\".hundred-percent-height.non-hundred-percent-height-scrolling\").css(\"height\",\"calc(100vh - \"+i+\"px)\"),jQuery(\".hundred-percent-height.non-hundred-percent-height-scrolling\").find(\".fusion-fullwidth-center-content\").css(\"height\",\"\"))))}function scrollToCurrentScrollSection(){jQuery(window).scrollTop();var s=Math.ceil(jQuery(window).scrollTop()),e=jQuery(window).height(),o=Math.floor(s+e),n=Boolean(Number(fusionContainerVars.is_sticky_header_transparent))||\"function\"!=typeof getStickyHeaderHeight?0:getStickyHeaderHeight(!0),i=jQuery(\"#wpadminbar\").length?parseInt(jQuery(\"#wpadminbar\").height(),10):0;s+=n+i,jQuery(\".fusion-page-load-link\").hasClass(\"fusion-page.load-scroll-section-link\")||jQuery(\".fusion-scroll-section\").each(function(){var e=jQuery(this),n=Math.ceil(e.offset().top),i=Math.ceil(e.outerHeight()),t=Math.floor(n+i);n<=s&&o<=t&&(e.addClass(\"active\"),jQuery(\"html, body\").animate({scrollTop:n-50},{duration:50,easing:\"easeInExpo\",complete:function(){jQuery(\"html, body\").animate({scrollTop:n},{duration:50,easing:\"easeOutExpo\",complete:function(){Modernizr.mq(\"only screen and (max-width: \"+fusionContainerVars.content_break_point+\"px)\")||jQuery(\".fusion-scroll-section\").removeClass(\"fusion-scroll-section-mobile-disabled\")}})}}))})}jQuery(window).load(function(){jQuery(\".fullwidth-faded\").fusionScroller({type:\"fading_blur\"})}),jQuery(document).ready(function(){Modernizr.mq(\"only screen and (max-width: \"+fusionContainerVars.content_break_point+\"px)\")&&jQuery(\".fullwidth-faded\").each(function(){var e=jQuery(this).css(\"background-image\");jQuery(this).parent().css(\"background-image\",e),jQuery(this).remove()})}),jQuery(window).load(function(){jQuery(\"#content\").find(\".fusion-scroll-section\").length&&void 0===jQuery(\".fusion-page-load-link\").attr(\"href\")&&setTimeout(function(){scrollToCurrentScrollSection()},400)}),jQuery(document).ready(function(){var n,i,e,t=jQuery(\"#content\").find(\".fusion-scroll-section\"),s=(Boolean(Number(fusionContainerVars.is_sticky_header_transparent))||\"function\"!=typeof getStickyHeaderHeight?0:getStickyHeaderHeight(!0))+(jQuery(\"#wpadminbar\").length?parseInt(jQuery(\"#wpadminbar\").height(),10):0);t.length&&(jQuery(\"#content\").find(\".non-hundred-percent-height-scrolling\").length||1!==t.length||jQuery.trim(jQuery(\"#sliders-container\").html())||(t.addClass(\"active\"),t.find(\".fusion-scroll-section-nav li:first a\").addClass(\"active\"),i=!0),t.each(function(){1<jQuery(this).children(\"div\").length&&(e=s?\"calc(\"+(100*jQuery(this).children(\"div\").size()+50)+\"vh - \"+s+\"px)\":100*jQuery(this).children(\"div\").size()+50+\"vh\",jQuery(this).css(\"height\",e),s&&(jQuery(this).find(\".hundred-percent-height-scrolling\").css(\"height\",\"calc(100vh - \"+s+\"px)\"),jQuery(this).find(\".fusion-scroll-section-nav\").css(\"top\",\"calc(50% + \"+s/2+\"px)\")))}),n=jQuery(window).scrollTop(),jQuery(window).scroll(function(){var e=jQuery(window).scrollTop();jQuery(\".fusion-scroll-section\").each(function(){1<jQuery(this).children(\"div\").length&&!jQuery(this).hasClass(\"fusion-scroll-section-mobile-disabled\")&&jQuery(this).fusionPositionScrollSectionElements(n,e,i)}),n=e}),jQuery(\".fusion-scroll-section-link\").on(\"click\",function(e){var n=jQuery(this).parents(\".fusion-scroll-section\"),i=parseInt(jQuery(this).parents(\".fusion-scroll-section-nav\").find(\".fusion-scroll-section-link.active\").data(\"element\"),10),t=parseInt(jQuery(this).data(\"element\"),10),s=Math.abs(t-i),o=(350+30*(s-1))*s;e.preventDefault(),0!==s&&(20<s&&(o=950*s),jQuery(this).parents(\".fusion-scroll-section\").find(\".fusion-scroll-section-element\").removeClass(\"active\"),jQuery(\"html, body\").animate({scrollTop:Math.ceil(n.offset().top)+jQuery(window).height()*(jQuery(this).data(\"element\")-1)},o,\"linear\"))})),jQuery(\".hundred-percent-height\").length&&(setCorrectResizeValuesForScrollSections(),jQuery(window).on(\"resize\",function(){setCorrectResizeValuesForScrollSections()}))}),function(p){\"use strict\";p.fn.fusionPositionScrollSectionElements=function(e,n,i){var t,s,o,l,r=p(this),c=Math.ceil(r.offset().top),a=Math.ceil(r.outerHeight()),d=Math.floor(c+a),u=Math.ceil(p(window).scrollTop()),h=p(window).height(),f=Math.floor(u+h),y=r.find(\".fusion-scroll-section-element\").length,m=0;if(i=i||!1,s=p(\"#wpadminbar\").length?parseInt(p(\"#wpadminbar\").height(),10):0,u+=s+=Boolean(Number(fusionContainerVars.is_sticky_header_transparent))||\"function\"!=typeof getStickyHeaderHeight?0:getStickyHeaderHeight(!0),t=p(\"#content\").width(),o=p(\"#content\").offset().left,\"0\",i||(c<=u&&f<=d?r.addClass(\"active\"):r.removeClass(\"active\")),e<n){for(l=1;l<y;l++)c+h*l<=u&&u<c+h*(l+1)&&(m=l+1);c<=u&&u<c+h?(r.find(\".fusion-scroll-section-element\").removeClass(\"active\"),r.children(\":nth-child(1)\").addClass(\"active\"),r.find(\".fusion-scroll-section-nav a\").removeClass(\"active\"),r.find('.fusion-scroll-section-nav a[data-element=\"'+r.children(\":nth-child(1)\").data(\"element\")+'\"] ').addClass(\"active\"),r.find(\".fusion-scroll-section-element\").css({position:\"fixed\",top:s,left:o,padding:\"0 0\",width:t}),r.children(\":nth-child(1)\").css(\"display\",\"block\")):d<=f&&\"absolute\"!==r.find(\".fusion-scroll-section-element\").last().css(\"position\")?(r.find(\".fusion-scroll-section-element\").removeClass(\"active\"),r.find(\".fusion-scroll-section-element\").last().addClass(\"active\"),r.find(\".fusion-scroll-section-element\").css(\"position\",\"absolute\"),r.find(\".fusion-scroll-section-element\").last().css({top:\"auto\",left:\"0\",bottom:\"0\",padding:\"\"})):0<m&&!r.children(\":nth-child(\"+m+\")\").hasClass(\"active\")&&(r.find(\".fusion-scroll-section-element\").removeClass(\"active\"),r.children(\":nth-child(\"+m+\")\").addClass(\"active\"),r.find(\".fusion-scroll-section-nav a\").removeClass(\"active\"),r.find('.fusion-scroll-section-nav a[data-element=\"'+r.children(\":nth-child(\"+m+\")\").data(\"element\")+'\"] ').addClass(\"active\"))}else if(n<e){for(l=1;l<y;l++)u<c+h*l&&c+h*(l-1)<u&&(m=l);f<=d&&c+h*(y-1)<u&&\"fixed\"!==r.find(\".fusion-scroll-section-element\").last().css(\"position\")?(r.find(\".fusion-scroll-section-element\").removeClass(\"active\"),r.find(\".fusion-scroll-section-element\").last().addClass(\"active\"),r.find(\".fusion-scroll-section-nav a\").removeClass(\"active\"),r.find('.fusion-scroll-section-nav a[data-element=\"'+r.find(\".fusion-scroll-section-element\").last().data(\"element\")+'\"] ').addClass(\"active\"),r.find(\".fusion-scroll-section-element\").css({position:\"fixed\",top:s,left:o,padding:\"0 0\",width:t}),r.find(\".fusion-scroll-section-element\").last().css(\"display\",\"block\")):(u<=c||0===p(window).scrollTop()&&r.find(\".fusion-scroll-section-element\").first().hasClass(\"active\"))&&\"\"!==r.find(\".fusion-scroll-section-element\").first().css(\"position\")?(r.find(\".fusion-scroll-section-element\").removeClass(\"active\"),r.find(\".fusion-scroll-section-element\").first().addClass(\"active\"),r.find(\".fusion-scroll-section-element\").css(\"position\",\"\"),r.find(\".fusion-scroll-section-element\").first().css(\"padding\",\"\")):0<m&&!r.children(\":nth-child(\"+m+\")\").hasClass(\"active\")&&(r.find(\".fusion-scroll-section-element\").removeClass(\"active\"),r.children(\":nth-child(\"+m+\")\").addClass(\"active\"),r.find(\".fusion-scroll-section-nav a\").removeClass(\"active\"),r.find('.fusion-scroll-section-nav a[data-element=\"'+r.children(\":nth-child(\"+m+\")\").data(\"element\")+'\"] ').addClass(\"active\"))}}}(jQuery);\n"
     ]
    }
   ],
   "source": [
    "f = open('/home/pyvovar/Documents/workspace/DS/Samsung/data_clean/35.txt', 'r')\n",
    "print(f.read())"
   ]
  },
  {
   "cell_type": "code",
   "execution_count": null,
   "metadata": {},
   "outputs": [],
   "source": []
  }
 ],
 "metadata": {
  "kernelspec": {
   "display_name": "Python 3",
   "language": "python",
   "name": "python3"
  },
  "language_info": {
   "codemirror_mode": {
    "name": "ipython",
    "version": 3
   },
   "file_extension": ".py",
   "mimetype": "text/x-python",
   "name": "python",
   "nbconvert_exporter": "python",
   "pygments_lexer": "ipython3",
   "version": "3.7.1"
  }
 },
 "nbformat": 4,
 "nbformat_minor": 2
}
